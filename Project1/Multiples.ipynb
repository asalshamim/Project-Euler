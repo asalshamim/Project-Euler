{
 "cells": [
  {
   "cell_type": "markdown",
   "source": [
    "## Multiples of 3 or 5\r\n",
    "\r\n",
    "##### If we list all the natural numbers below 10 that are multiples of 3 or 5, we get 3, 5, 6 and 9. The sum of these multiples is 23.\r\n",
    "\r\n",
    "##### Find the sum of all the multiples of 3 or 5 below 1000."
   ],
   "metadata": {}
  },
  {
   "cell_type": "code",
   "execution_count": 1,
   "source": [
    "def x(n):\r\n",
    "    if n % 3 == 0 or n % 5 == 0:\r\n",
    "        return True\r\n",
    "    else:\r\n",
    "        return False\r\n",
    "\r\n",
    "\r\n",
    "sum = 0\r\n",
    "for i in range(1, 1000):\r\n",
    "    if x(i):\r\n",
    "        sum = sum + i\r\n",
    "print(sum)"
   ],
   "outputs": [
    {
     "output_type": "stream",
     "name": "stdout",
     "text": [
      "233168\n"
     ]
    }
   ],
   "metadata": {}
  }
 ],
 "metadata": {
  "orig_nbformat": 4,
  "language_info": {
   "name": "python",
   "version": "3.9.4",
   "mimetype": "text/x-python",
   "codemirror_mode": {
    "name": "ipython",
    "version": 3
   },
   "pygments_lexer": "ipython3",
   "nbconvert_exporter": "python",
   "file_extension": ".py"
  },
  "kernelspec": {
   "name": "python3",
   "display_name": "Python 3.9.4 64-bit"
  },
  "interpreter": {
   "hash": "fdbc4db6bad17611002dfea21b8ab8837ceb245793cd82f756b9d7537af4da57"
  }
 },
 "nbformat": 4,
 "nbformat_minor": 2
}